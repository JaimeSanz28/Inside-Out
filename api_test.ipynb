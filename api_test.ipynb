{
 "cells": [
  {
   "cell_type": "markdown",
   "metadata": {},
   "source": [
    "# Testing the Messenger API"
   ]
  },
  {
   "cell_type": "code",
   "execution_count": 5,
   "metadata": {},
   "outputs": [],
   "source": [
    "import requests\n",
    "from pymongo import MongoClient"
   ]
  },
  {
   "cell_type": "markdown",
   "metadata": {},
   "source": [
    "## Create new user"
   ]
  },
  {
   "cell_type": "code",
   "execution_count": 6,
   "metadata": {},
   "outputs": [
    {
     "name": "stdout",
     "output_type": "stream",
     "text": [
      "<Response [200]>\n"
     ]
    }
   ],
   "source": [
    "url = \"http://localhost:3000/user/create/josellado\"\n",
    "res = requests.get(url)\n",
    "print(res)"
   ]
  },
  {
   "cell_type": "code",
   "execution_count": 7,
   "metadata": {},
   "outputs": [
    {
     "name": "stdout",
     "output_type": "stream",
     "text": [
      "<Response [200]>\n"
     ]
    },
    {
     "data": {
      "text/plain": [
       "'The user was succesfully created!! user_name: Tarzan, user_id: 5f0d6999c92cd8bc12c0eae6'"
      ]
     },
     "execution_count": 7,
     "metadata": {},
     "output_type": "execute_result"
    }
   ],
   "source": [
    "users = [\"Pepito Grillo\", \"Pinoccio\", \"Nemo\", \"Tarzan\"]\n",
    "\n",
    "for user in users:\n",
    "     res = requests.get(f\"http://localhost:3000/user/create/{user}\")\n",
    "print(res)\n",
    "res.json()"
   ]
  },
  {
   "cell_type": "markdown",
   "metadata": {},
   "source": [
    "## Create new chat"
   ]
  },
  {
   "cell_type": "code",
   "execution_count": 10,
   "metadata": {},
   "outputs": [],
   "source": [
    "participants= [\"La sirenita\", \"Goofy\", \"Hércules\", \"Olaf\"]\n",
    "dic={\"Participants\":participants, \"group_name\": \"Pintada de cara el viernes\" }"
   ]
  },
  {
   "cell_type": "code",
   "execution_count": 11,
   "metadata": {},
   "outputs": [
    {
     "name": "stdout",
     "output_type": "stream",
     "text": [
      "<Response [500]>\n"
     ]
    },
    {
     "data": {
      "text/plain": [
       "{'message': 'participants is not a valid query params. Valid params: []',\n",
       " 'status': 'api-error'}"
      ]
     },
     "execution_count": 11,
     "metadata": {},
     "output_type": "execute_result"
    }
   ],
   "source": [
    "url = \"http://localhost:3000/chat/create\"\n",
    "res = requests.get(url, params= dic)\n",
    "print(res)\n",
    "res.json()"
   ]
  },
  {
   "cell_type": "markdown",
   "metadata": {},
   "source": [
    "## Add user to chat"
   ]
  },
  {
   "cell_type": "code",
   "execution_count": 13,
   "metadata": {},
   "outputs": [
    {
     "name": "stdout",
     "output_type": "stream",
     "text": [
      "<Response [500]>\n"
     ]
    },
    {
     "data": {
      "text/plain": [
       "{'message': 'user_name is not a valid query params. Valid params: []',\n",
       " 'status': 'api-error'}"
      ]
     },
     "execution_count": 13,
     "metadata": {},
     "output_type": "execute_result"
    }
   ],
   "source": [
    "# convo to which user will be added to\n",
    "# chosen user\n",
    "user_name=\"Nemo\"                                 \n",
    "conversation_id= \"5f0d6999c92cd8bc12c0eae5\"      \n",
    "\n",
    "url = f\"http://localhost:3000/chat/{conversation_id}/adduser\"\n",
    "params= f'?user_name={user_name}'\n",
    "res = requests.get(url+params)\n",
    "\n",
    "print(res)\n",
    "res.json()"
   ]
  },
  {
   "cell_type": "markdown",
   "metadata": {},
   "source": [
    "## Add message to chat"
   ]
  },
  {
   "cell_type": "code",
   "execution_count": null,
   "metadata": {},
   "outputs": [],
   "source": [
    "conversation_id= \"5f0d6999c92cd8bc12c0eae4\"\n",
    "user_id=\"Pinoccio\"\n",
    "message=[\"I aint lying bruh\", \"Ooooohweeeeeee\"]"
   ]
  },
  {
   "cell_type": "code",
   "execution_count": null,
   "metadata": {},
   "outputs": [],
   "source": [
    "conversation_id= \"5f0d6999c92cd8bc12c0eae6\"\n",
    "user_id=\"Tarzan\"\n",
    "message=[\"Wheres Jane at?\", \"I dont like cutlery\"]"
   ]
  },
  {
   "cell_type": "code",
   "execution_count": null,
   "metadata": {},
   "outputs": [],
   "source": [
    "url = f\"http://localhost:3000/chat/{conversation_id}/addmessage\"\n",
    "\n",
    "for mes in message:\n",
    "    x={\"conversation_id\":f'{conversation_id}', \"user_name\":f'{user_id}' , \"message\":f'{x}'}\n",
    "    res = requests.post(url, data=x)\n",
    "print(res)\n",
    "res.json()"
   ]
  },
  {
   "cell_type": "markdown",
   "metadata": {},
   "source": [
    "## Retrieve all messages from chat"
   ]
  },
  {
   "cell_type": "code",
   "execution_count": null,
   "metadata": {},
   "outputs": [],
   "source": [
    "#http://localhost:3000/chat/<conversation_id>/list\n",
    "conversation_id= \"5f0ca16f4c36241d385b895a\"\n",
    "url = f\"http://localhost:3000/chat/{conversation_id}/list\"\n",
    "res = requests.get(url)\n",
    "print(res)\n",
    "res.json()"
   ]
  }
 ],
 "metadata": {
  "kernelspec": {
   "display_name": "Python 3",
   "language": "python",
   "name": "python3"
  },
  "language_info": {
   "codemirror_mode": {
    "name": "ipython",
    "version": 3
   },
   "file_extension": ".py",
   "mimetype": "text/x-python",
   "name": "python",
   "nbconvert_exporter": "python",
   "pygments_lexer": "ipython3",
   "version": "3.7.7"
  }
 },
 "nbformat": 4,
 "nbformat_minor": 4
}
